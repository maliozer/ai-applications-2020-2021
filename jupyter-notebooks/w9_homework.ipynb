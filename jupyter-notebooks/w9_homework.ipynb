{
  "nbformat": 4,
  "nbformat_minor": 0,
  "metadata": {
    "colab": {
      "name": "w9_homework.ipynb",
      "provenance": []
    },
    "kernelspec": {
      "name": "python3",
      "display_name": "Python 3"
    }
  },
  "cells": [
    {
      "cell_type": "markdown",
      "metadata": {
        "id": "Z5GLLkB-hEdu"
      },
      "source": [
        "#W9 HOMEWORK"
      ]
    },
    {
      "cell_type": "markdown",
      "metadata": {
        "id": "JiEg24bMdr3X"
      },
      "source": [
        "##Q1) Which of these is a classification problem?\n",
        "``` Provided below are 4 example applications of machine learning. Which of them is a supervised classification problem?```\n",
        "\n",
        "* A) Using labeled financial data to predict whether the value of a stock will go up or go down next week.\n",
        "* B) Using labeled housing price data to predict the price of a new house based on various features.\n",
        "* C) Using unlabeled data to cluster the students of an online education company into different categories based on their learning styles.\n",
        "* D) Using labeled financial data to predict what the value of a stock will be next week.\n",
        "\n",
        "\n"
      ]
    },
    {
      "cell_type": "code",
      "metadata": {
        "id": "DRrbuPLqWduG"
      },
      "source": [
        "answer_q1 = \"A\" #@param [\"A\", \"B\", \"C\", \"D\"]"
      ],
      "execution_count": null,
      "outputs": []
    },
    {
      "cell_type": "markdown",
      "metadata": {
        "id": "Z3JzRM7Fgs9j"
      },
      "source": [
        "---"
      ]
    },
    {
      "cell_type": "markdown",
      "metadata": {
        "id": "ynJ_cAT3g_-d"
      },
      "source": [
        "##Q2) \n",
        "\n",
        ">You'll be working with a dataset obtained from the sklearn datasets. \n",
        "* Load `breast_cancer` dataset.\n",
        "\n",
        ">Firs of all, you need to perform Exploratory data analysis (EDA) in order to understand the structure of the data.\n",
        "\n",
        ">Load the data into a DataFrame called df. Use pandas' ```.head(), .info(), and .describe()``` methods in the colab code block to explore the DataFrame, and fill the statement below.\n"
      ]
    },
    {
      "cell_type": "markdown",
      "metadata": {
        "id": "vGyKql97vWe2"
      },
      "source": [
        "* A) The DataFrame has a total of ___ rows and __ columns.\n",
        "* B) columns are of type ___\n",
        "* C) The features of these dataset are ____\n",
        "* D) There are __ predictor variables, or features, in this DataFrame.\n",
        "* E) The target variable in this DataFrame is '____'.\n",
        "* F) Which classes data include as target ?\n",
        "---\n",
        "\n"
      ]
    },
    {
      "cell_type": "code",
      "metadata": {
        "id": "3_2PeOz7pzO-"
      },
      "source": [
        "from sklearn import datasets\n",
        "\n",
        "import pandas as pd\n",
        "import numpy as np\n",
        "import matplotlib.pyplot as plt"
      ],
      "execution_count": null,
      "outputs": []
    },
    {
      "cell_type": "code",
      "metadata": {
        "id": "Lzg24BO5p0Wd"
      },
      "source": [
        "breast = #__CODE HERE__"
      ],
      "execution_count": null,
      "outputs": []
    },
    {
      "cell_type": "code",
      "metadata": {
        "id": "M8vsz_9qq-Ho"
      },
      "source": [
        "X = \n",
        "y = "
      ],
      "execution_count": null,
      "outputs": []
    },
    {
      "cell_type": "markdown",
      "metadata": {
        "id": "BHbUo7IX1eIM"
      },
      "source": [
        "##Q3 load the data to dataframe and see first 5 rows and plot the dataframe with features and sets color with their target class."
      ]
    },
    {
      "cell_type": "code",
      "metadata": {
        "id": "XMHi0O0O0b4q"
      },
      "source": [
        "df = #__CODE HERE__"
      ],
      "execution_count": null,
      "outputs": []
    },
    {
      "cell_type": "code",
      "metadata": {
        "id": "7jH78RhS0hAp"
      },
      "source": [
        "#"
      ],
      "execution_count": null,
      "outputs": []
    },
    {
      "cell_type": "markdown",
      "metadata": {
        "id": "Yy96zu4Koc4U"
      },
      "source": [
        "##Q4 k-Nearest Neighbors: Fit\n",
        "Having explored the **breast cancer** dataset, it is time now to build your first classifier. In this exercise, you will fit a k-Nearest Neighbors classifier to the breast dataset, which you has been pre-loaded for you into a DataFrame ```df```.\n",
        "\n",
        "* Import `KNeighborsClassifier` from sklearn.neighbors.\n",
        "* Create arrays `X` and `y` for the features and the target variable. \n",
        "\n",
        "* Split the data to X_train X_test y_train and y_test\n",
        "\n",
        "* Instantiate a `KNeighborsClassifier` called `knn` with `6` neighbors by specifying the `n_neighbors` parameter.\n",
        "\n",
        "* Fit the classifier to the data using the `.fit()` method."
      ]
    },
    {
      "cell_type": "code",
      "metadata": {
        "id": "dMgmbTBhvjv1"
      },
      "source": [
        "# Import KNeighborsClassifier from sklearn.neighbors\n",
        "from ____ import ____\n",
        "\n",
        "from sklearn.model_selection import train_test_split\n",
        "\n",
        "# Create arrays for the features and the response variable\n",
        "X_train, X_test, y_train, y_test = # ____CODE HERE_______\n",
        "\n",
        "# Create a k-NN classifier with 6 neighbors\n",
        "knn = # __CODE HERE__\n",
        "\n",
        "# Fit the classifier to the data\n",
        "# __CODE HERE__\n"
      ],
      "execution_count": null,
      "outputs": []
    },
    {
      "cell_type": "markdown",
      "metadata": {
        "id": "S4MN0LYf2dKm"
      },
      "source": [
        "#Q4 What is the model's accuracy and which k value the best for this classifier ?"
      ]
    },
    {
      "cell_type": "code",
      "metadata": {
        "id": "OpDiTrdovzZy"
      },
      "source": [
        "#___CODE HERE___"
      ],
      "execution_count": null,
      "outputs": []
    },
    {
      "cell_type": "code",
      "metadata": {
        "id": "LJdcJvPn2svg"
      },
      "source": [
        ""
      ],
      "execution_count": null,
      "outputs": []
    }
  ]
}