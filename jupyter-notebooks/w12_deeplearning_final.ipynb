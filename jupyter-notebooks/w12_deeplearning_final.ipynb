{
  "nbformat": 4,
  "nbformat_minor": 0,
  "metadata": {
    "colab": {
      "name": "w12_deeplearning-final.ipynb",
      "provenance": [],
      "collapsed_sections": [],
      "toc_visible": true
    },
    "kernelspec": {
      "display_name": "Python 3",
      "language": "python",
      "name": "python3"
    },
    "language_info": {
      "codemirror_mode": {
        "name": "ipython",
        "version": 3
      },
      "file_extension": ".py",
      "mimetype": "text/x-python",
      "name": "python",
      "nbconvert_exporter": "python",
      "pygments_lexer": "ipython3",
      "version": "3.8.3"
    }
  },
  "cells": [
    {
      "cell_type": "markdown",
      "metadata": {
        "id": "LE0uIcnt0604"
      },
      "source": [
        "# Classification with titanic data"
      ]
    },
    {
      "cell_type": "code",
      "metadata": {
        "id": "kZOv50xdyC3O"
      },
      "source": [
        "import pandas as pd\n",
        "import numpy as np"
      ],
      "execution_count": 7,
      "outputs": []
    },
    {
      "cell_type": "code",
      "metadata": {
        "id": "ay-hzbOk3Eme"
      },
      "source": [
        "df = pd.read_csv(\"titanic_target.csv\")\n",
        "\n",
        "df_predictors = pd.read_csv(\"titanic_features.csv\")\n",
        "predictors=df_predictors.to_numpy()"
      ],
      "execution_count": 8,
      "outputs": []
    },
    {
      "cell_type": "code",
      "metadata": {
        "colab": {
          "base_uri": "https://localhost:8080/"
        },
        "id": "-1u_b0xK3SuU",
        "outputId": "d22965b0-28f3-4396-c9cb-f8ff19457e3e"
      },
      "source": [
        "# Import necessary modules\n",
        "import keras\n",
        "from keras.layers import Dense\n",
        "from keras.models import Sequential\n",
        "from keras.utils import to_categorical\n",
        "\n",
        "target = to_categorical(df.survived)\n",
        "\n",
        "# Specify, compile, and fit the model\n",
        "model = Sequential()\n",
        "model.add(Dense(32, activation='relu', input_shape = (10,)))\n",
        "model.add(Dense(100, activation='relu'))\n",
        "model.add(Dense(100, activation='relu'))\n",
        "\n",
        "model.add(Dense(2, activation='softmax'))\n",
        "model.compile(optimizer='sgd', \n",
        "              loss='categorical_crossentropy', \n",
        "              metrics=['accuracy'])\n",
        "model.fit(predictors[:600], target[:600], verbose = 1, epochs=10, batch_size= 20)\n",
        "\n",
        "# Calculate predictions: predictions\n",
        "predictions = model.predict(predictors[600:])\n",
        "\n",
        "# Calculate predicted probability of survival: predicted_prob_true\n",
        "predicted_prob_true = predictions[:,1]\n"
      ],
      "execution_count": 9,
      "outputs": [
        {
          "output_type": "stream",
          "text": [
            "Epoch 1/10\n",
            "30/30 [==============================] - 1s 1ms/step - loss: 2.4031 - accuracy: 0.5376\n",
            "Epoch 2/10\n",
            "30/30 [==============================] - 0s 1ms/step - loss: 0.6331 - accuracy: 0.7159\n",
            "Epoch 3/10\n",
            "30/30 [==============================] - 0s 1ms/step - loss: 0.7355 - accuracy: 0.6142\n",
            "Epoch 4/10\n",
            "30/30 [==============================] - 0s 1ms/step - loss: 0.6417 - accuracy: 0.6492\n",
            "Epoch 5/10\n",
            "30/30 [==============================] - 0s 1ms/step - loss: 0.6268 - accuracy: 0.6800\n",
            "Epoch 6/10\n",
            "30/30 [==============================] - 0s 1ms/step - loss: 0.6348 - accuracy: 0.6761\n",
            "Epoch 7/10\n",
            "30/30 [==============================] - 0s 2ms/step - loss: 0.6012 - accuracy: 0.6609\n",
            "Epoch 8/10\n",
            "30/30 [==============================] - 0s 1ms/step - loss: 0.6008 - accuracy: 0.6980\n",
            "Epoch 9/10\n",
            "30/30 [==============================] - 0s 1ms/step - loss: 0.5965 - accuracy: 0.6994\n",
            "Epoch 10/10\n",
            "30/30 [==============================] - 0s 1ms/step - loss: 0.5987 - accuracy: 0.7079\n"
          ],
          "name": "stdout"
        }
      ]
    },
    {
      "cell_type": "code",
      "metadata": {
        "colab": {
          "base_uri": "https://localhost:8080/"
        },
        "id": "88FkRzwj_Q3Z",
        "outputId": "3775cc1a-1058-41f3-a49f-9632f424ee0c"
      },
      "source": [
        "#accuracy calculator\n",
        "\n",
        "#print predicted_prob_true\n",
        "#print(predicted_prob_true)\n",
        "y_test = target[600:]\n",
        "tptf = list()\n",
        "for k,v in enumerate(predictions):\n",
        "    if(v[0] > v[1]):\n",
        "        p_res = 0\n",
        "    else:\n",
        "        p_res = 1\n",
        "\n",
        "    if(y_test[k][0] > y_test[k][1]):\n",
        "        y_res = 0\n",
        "    else:\n",
        "        y_res = 1\n",
        "    if(p_res == y_res):\n",
        "        tptf.append(1)\n",
        "\n",
        "print(sum(tptf) / len(y_test))"
      ],
      "execution_count": 10,
      "outputs": [
        {
          "output_type": "stream",
          "text": [
            "0.7525773195876289\n"
          ],
          "name": "stdout"
        }
      ]
    },
    {
      "cell_type": "code",
      "metadata": {
        "id": "gcU8xd3w2OWm"
      },
      "source": [
        "\n",
        "\n"
      ],
      "execution_count": null,
      "outputs": []
    }
  ]
}